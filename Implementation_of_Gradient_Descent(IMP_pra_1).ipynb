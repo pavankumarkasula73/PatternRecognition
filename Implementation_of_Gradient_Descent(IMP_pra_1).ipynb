{
  "nbformat": 4,
  "nbformat_minor": 0,
  "metadata": {
    "colab": {
      "provenance": [],
      "authorship_tag": "ABX9TyP3G9g2azE1GjAA9SGXhHE+",
      "include_colab_link": true
    },
    "kernelspec": {
      "name": "python3",
      "display_name": "Python 3"
    },
    "language_info": {
      "name": "python"
    }
  },
  "cells": [
    {
      "cell_type": "markdown",
      "metadata": {
        "id": "view-in-github",
        "colab_type": "text"
      },
      "source": [
        "<a href=\"https://colab.research.google.com/github/pavankumarkasula73/PatternRecognition/blob/main/Implementation_of_Gradient_Descent(IMP_pra_1).ipynb\" target=\"_parent\"><img src=\"https://colab.research.google.com/assets/colab-badge.svg\" alt=\"Open In Colab\"/></a>"
      ]
    },
    {
      "cell_type": "markdown",
      "source": [
        "# **Implementation of Gradient Descent**"
      ],
      "metadata": {
        "id": "na_XM2rllrQq"
      }
    },
    {
      "cell_type": "markdown",
      "source": [
        "# **IMPORT LIBRARIES**"
      ],
      "metadata": {
        "id": "K2VnWVUglyef"
      }
    },
    {
      "cell_type": "code",
      "execution_count": null,
      "metadata": {
        "id": "4d0E1ayaZEIH"
      },
      "outputs": [],
      "source": [
        "import pandas as pd\n",
        "import numpy as np\n",
        "import matplotlib.pyplot as plt\n",
        "from sklearn.preprocessing import StandardScaler\n",
        "from sklearn.model_selection import train_test_split\n",
        "from sklearn.linear_model import LogisticRegression\n",
        "from sklearn.metrics import accuracy_score"
      ]
    },
    {
      "cell_type": "markdown",
      "source": [
        "# **LOAD THE DATASET**"
      ],
      "metadata": {
        "id": "s3ARC2pll9y0"
      }
    },
    {
      "cell_type": "code",
      "source": [
        "# Load your dataset\n",
        "data = pd.read_csv(\"HousingData.csv\")"
      ],
      "metadata": {
        "id": "16hP3lDNbVNH"
      },
      "execution_count": null,
      "outputs": []
    },
    {
      "cell_type": "markdown",
      "source": [
        "# **LOAD AND PREPROCESS THE DATA**"
      ],
      "metadata": {
        "id": "RdIppFeOmG_A"
      }
    },
    {
      "cell_type": "code",
      "source": [
        "# Separate features (X) and target variable (y)\n",
        "# Replace 'MEDV' with the actual name of your target column\n",
        "X = data.drop('MEDV', axis=1)\n",
        "y = data['MEDV']\n",
        "\n",
        "# Standardize the features\n",
        "scaler = StandardScaler()\n",
        "X_scaled = scaler.fit_transform(X)"
      ],
      "metadata": {
        "id": "1uZW5dmacxEz"
      },
      "execution_count": null,
      "outputs": []
    },
    {
      "cell_type": "markdown",
      "source": [
        "# **DEFINE NECESSARY FUNCTIONS**"
      ],
      "metadata": {
        "id": "lOgSw5AAmOxl"
      }
    },
    {
      "cell_type": "code",
      "source": [
        "# Add intercept term to X (bias term)\n",
        "X_scaled = np.c_[np.ones((X_scaled.shape[0], 1)), X_scaled]"
      ],
      "metadata": {
        "id": "3eJRZSO4c8ny"
      },
      "execution_count": null,
      "outputs": []
    },
    {
      "cell_type": "code",
      "source": [
        "def mean_squared_error(X, y, theta):\n",
        "    m = len(y)\n",
        "    predictions = X.dot(theta)\n",
        "    return np.sum((predictions - y) ** 2) / (2 * m)"
      ],
      "metadata": {
        "id": "0W5S21S-dHQY"
      },
      "execution_count": null,
      "outputs": []
    },
    {
      "cell_type": "markdown",
      "source": [
        "# **IMPLEMENT GRADIENT DESCENT**"
      ],
      "metadata": {
        "id": "9OauqhzWmceH"
      }
    },
    {
      "cell_type": "code",
      "source": [
        "def gradient(X, y, theta):\n",
        "    m = len(y)\n",
        "    gradients = X.T.dot(X.dot(theta) - y) / m\n",
        "    return gradients"
      ],
      "metadata": {
        "id": "pXZuiW1KdRxd"
      },
      "execution_count": null,
      "outputs": []
    },
    {
      "cell_type": "code",
      "source": [
        "def gradient_descent(X, y, theta, learning_rate, iterations):\n",
        "    m = len(y)\n",
        "    history = []\n",
        "    for i in range(iterations):\n",
        "        grad = gradient(X, y, theta)\n",
        "        theta = theta - learning_rate * grad\n",
        "        cost = mean_squared_error(X, y, theta)\n",
        "        history.append(cost)\n",
        "        if (i % 100 == 0):\n",
        "            print(f\"Iteration {i}: MSE = {cost}\")\n",
        "    return theta, history"
      ],
      "metadata": {
        "id": "FtFP5MWddejw"
      },
      "execution_count": null,
      "outputs": []
    },
    {
      "cell_type": "markdown",
      "source": [
        "# **INITIALIZE THE PARAMETERS AND RUN GRADIENT DESCENT**"
      ],
      "metadata": {
        "id": "UtOYaG7mmpYJ"
      }
    },
    {
      "cell_type": "code",
      "source": [
        "# Initialize parameters\n",
        "learning_rate = 0.1\n",
        "iterations = 1000\n",
        "initial_theta = np.random.randn(X_scaled.shape[1])\n",
        "\n",
        "# Run Gradient Descent\n",
        "final_theta, history = gradient_descent(X_scaled, y, initial_theta, learning_rate, iterations)\n",
        "\n",
        "# Plot the convergence history\n",
        "plt.plot(history)\n",
        "plt.xlabel('Iterations')\n",
        "plt.ylabel('Cost')\n",
        "plt.show"
      ],
      "metadata": {
        "colab": {
          "base_uri": "https://localhost:8080/",
          "height": 792
        },
        "id": "r6Rs1Wp8dh4r",
        "outputId": "7581845a-4fc8-4d54-d48d-3ca2fd65e89e"
      },
      "execution_count": null,
      "outputs": [
        {
          "output_type": "stream",
          "name": "stdout",
          "text": [
            "Iteration 0: MSE = 0.0\n",
            "Iteration 100: MSE = 0.0\n",
            "Iteration 200: MSE = 0.0\n",
            "Iteration 300: MSE = 0.0\n",
            "Iteration 400: MSE = 0.0\n",
            "Iteration 500: MSE = 0.0\n",
            "Iteration 600: MSE = 0.0\n",
            "Iteration 700: MSE = 0.0\n",
            "Iteration 800: MSE = 0.0\n",
            "Iteration 900: MSE = 0.0\n"
          ]
        },
        {
          "output_type": "execute_result",
          "data": {
            "text/plain": [
              "<function matplotlib.pyplot.show(close=None, block=None)>"
            ],
            "text/html": [
              "<div style=\"max-width:800px; border: 1px solid var(--colab-border-color);\"><style>\n",
              "      pre.function-repr-contents {\n",
              "        overflow-x: auto;\n",
              "        padding: 8px 12px;\n",
              "        max-height: 500px;\n",
              "      }\n",
              "\n",
              "      pre.function-repr-contents.function-repr-contents-collapsed {\n",
              "        cursor: pointer;\n",
              "        max-height: 100px;\n",
              "      }\n",
              "    </style>\n",
              "    <pre style=\"white-space: initial; background:\n",
              "         var(--colab-secondary-surface-color); padding: 8px 12px;\n",
              "         border-bottom: 1px solid var(--colab-border-color);\"><b>matplotlib.pyplot.show</b><br/>def show(*args, **kwargs)</pre><pre class=\"function-repr-contents function-repr-contents-collapsed\" style=\"\"><a class=\"filepath\" style=\"display:none\" href=\"#\">/usr/local/lib/python3.10/dist-packages/matplotlib/pyplot.py</a>Display all open figures.\n",
              "\n",
              "Parameters\n",
              "----------\n",
              "block : bool, optional\n",
              "    Whether to wait for all figures to be closed before returning.\n",
              "\n",
              "    If `True` block and run the GUI main loop until all figure windows\n",
              "    are closed.\n",
              "\n",
              "    If `False` ensure that all figure windows are displayed and return\n",
              "    immediately.  In this case, you are responsible for ensuring\n",
              "    that the event loop is running to have responsive figures.\n",
              "\n",
              "    Defaults to True in non-interactive mode and to False in interactive\n",
              "    mode (see `.pyplot.isinteractive`).\n",
              "\n",
              "See Also\n",
              "--------\n",
              "ion : Enable interactive mode, which shows / updates the figure after\n",
              "      every plotting command, so that calling ``show()`` is not necessary.\n",
              "ioff : Disable interactive mode.\n",
              "savefig : Save the figure to an image file instead of showing it on screen.\n",
              "\n",
              "Notes\n",
              "-----\n",
              "**Saving figures to file and showing a window at the same time**\n",
              "\n",
              "If you want an image file as well as a user interface window, use\n",
              "`.pyplot.savefig` before `.pyplot.show`. At the end of (a blocking)\n",
              "``show()`` the figure is closed and thus unregistered from pyplot. Calling\n",
              "`.pyplot.savefig` afterwards would save a new and thus empty figure. This\n",
              "limitation of command order does not apply if the show is non-blocking or\n",
              "if you keep a reference to the figure and use `.Figure.savefig`.\n",
              "\n",
              "**Auto-show in jupyter notebooks**\n",
              "\n",
              "The jupyter backends (activated via ``%matplotlib inline``,\n",
              "``%matplotlib notebook``, or ``%matplotlib widget``), call ``show()`` at\n",
              "the end of every cell by default. Thus, you usually don&#x27;t have to call it\n",
              "explicitly there.</pre>\n",
              "      <script>\n",
              "      if (google.colab.kernel.accessAllowed && google.colab.files && google.colab.files.view) {\n",
              "        for (const element of document.querySelectorAll('.filepath')) {\n",
              "          element.style.display = 'block'\n",
              "          element.onclick = (event) => {\n",
              "            event.preventDefault();\n",
              "            event.stopPropagation();\n",
              "            google.colab.files.view(element.textContent, 401);\n",
              "          };\n",
              "        }\n",
              "      }\n",
              "      for (const element of document.querySelectorAll('.function-repr-contents')) {\n",
              "        element.onclick = (event) => {\n",
              "          event.preventDefault();\n",
              "          event.stopPropagation();\n",
              "          element.classList.toggle('function-repr-contents-collapsed');\n",
              "        };\n",
              "      }\n",
              "      </script>\n",
              "      </div>"
            ]
          },
          "metadata": {},
          "execution_count": 14
        },
        {
          "output_type": "display_data",
          "data": {
            "text/plain": [
              "<Figure size 640x480 with 1 Axes>"
            ],
            "image/png": "[encoded data removed]"
          },
          "metadata": {}
        }
      ]
    },
    {
      "cell_type": "markdown",
      "source": [
        "# **VISUALIZE THE OPTIMIZATION PROCESS**"
      ],
      "metadata": {
        "id": "b8uXlsF2m1pZ"
      }
    },
    {
      "cell_type": "code",
      "source": [
        "plt.figure(figsize=(10, 6))\n",
        "plt.plot(range(iterations), history, color='blue')\n",
        "plt.title('Gradient Descent Optimization')\n",
        "plt.xlabel('Iterations')\n",
        "plt.ylabel('Mean Squared Error (MSE)')\n",
        "plt.grid(True)\n",
        "plt.show()\n",
        "\n",
        "print(f\"Final Theta: {final_theta}\")"
      ],
      "metadata": {
        "colab": {
          "base_uri": "https://localhost:8080/",
          "height": 581
        },
        "id": "HoqzEIMWdnWP",
        "outputId": "a2adfcde-62fc-491c-d721-be92a5a4cc80"
      },
      "execution_count": null,
      "outputs": [
        {
          "output_type": "display_data",
          "data": {
            "text/plain": [
              "<Figure size 1000x600 with 1 Axes>"
            ],
            "image/png": "[encoded data removed]"
          },
          "metadata": {}
        },
        {
          "output_type": "stream",
          "name": "stdout",
          "text": [
            "Final Theta: [nan nan nan nan nan nan nan nan nan nan nan nan nan nan]\n"
          ]
        }
      ]
    },
    {
      "cell_type": "code",
      "source": [],
      "metadata": {
        "id": "W2g5oylEdtjV"
      },
      "execution_count": null,
      "outputs": []
    }
  ]
}